{
  "nbformat": 4,
  "nbformat_minor": 0,
  "metadata": {
    "colab": {
      "name": "Chapter8.ipynb",
      "provenance": [],
      "authorship_tag": "ABX9TyNkactwQO1B5Siu7lqo+og/",
      "include_colab_link": true
    },
    "kernelspec": {
      "name": "python3",
      "display_name": "Python 3"
    },
    "language_info": {
      "name": "python"
    },
    "accelerator": "GPU",
    "gpuClass": "standard"
  },
  "cells": [
    {
      "cell_type": "markdown",
      "metadata": {
        "id": "view-in-github",
        "colab_type": "text"
      },
      "source": [
        "<a href=\"https://colab.research.google.com/github/thatguyandy27/DLWithPython/blob/main/chapter8/Chapter8.ipynb\" target=\"_parent\"><img src=\"https://colab.research.google.com/assets/colab-badge.svg\" alt=\"Open In Colab\"/></a>"
      ]
    },
    {
      "cell_type": "markdown",
      "source": [
        "Downloading the code from kaggle."
      ],
      "metadata": {
        "id": "GdtJ8JPZFmqw"
      }
    },
    {
      "cell_type": "code",
      "source": [
        "from google.colab import files\n",
        "files.upload()"
      ],
      "metadata": {
        "id": "HMGr9q14CcuS"
      },
      "execution_count": null,
      "outputs": []
    },
    {
      "cell_type": "code",
      "execution_count": 4,
      "metadata": {
        "colab": {
          "base_uri": "https://localhost:8080/"
        },
        "id": "xomXtMB6AxYB",
        "outputId": "7e7dcc62-9080-4d40-d25e-acb6f147a5e5"
      },
      "outputs": [
        {
          "output_type": "stream",
          "name": "stdout",
          "text": [
            "Downloading dogs-vs-cats.zip to /content\n",
            " 97% 785M/812M [00:02<00:00, 190MB/s]\n",
            "100% 812M/812M [00:02<00:00, 288MB/s]\n"
          ]
        }
      ],
      "source": [
        "!mkdir ~/.kaggle\n",
        "!mv kaggle.json ~/.kaggle/\n",
        "!chmod 600 ~/.kaggle/kaggle.json\n",
        "!kaggle competitions download -c dogs-vs-cats"
      ]
    },
    {
      "cell_type": "code",
      "source": [
        "!unzip -qq dogs-vs-cats.zip"
      ],
      "metadata": {
        "id": "ni4a-kH3CRVA"
      },
      "execution_count": 5,
      "outputs": []
    },
    {
      "cell_type": "code",
      "source": [
        "!unzip -qq train.zip"
      ],
      "metadata": {
        "id": "K3zrOBmbD-mg"
      },
      "execution_count": 6,
      "outputs": []
    },
    {
      "cell_type": "markdown",
      "source": [
        "Splitting the images into datasets"
      ],
      "metadata": {
        "id": "8saDiEWaFvlj"
      }
    },
    {
      "cell_type": "code",
      "source": [
        "import os, shutil, pathlib"
      ],
      "metadata": {
        "id": "ykQb60wXFVHB"
      },
      "execution_count": 7,
      "outputs": []
    },
    {
      "cell_type": "code",
      "source": [
        "original_dir = pathlib.Path(\"train\")\n",
        "new_base_dir = pathlib.Path(\"cats_vs_dogs_small\")"
      ],
      "metadata": {
        "id": "oV-ujhXNGFnV"
      },
      "execution_count": 8,
      "outputs": []
    },
    {
      "cell_type": "code",
      "source": [
        "def make_subset(subset_name, start_index, end_index):\n",
        "  # for cat and dog\n",
        "  for category in (\"cat\", \"dog\"):\n",
        "    dir = new_base_dir / subset_name / category\n",
        "    os.makedirs(dir)\n",
        "    # filename is cat/dog.number.jpg\n",
        "    fnames = [f\"{category}.{i}.jpg\"\n",
        "              for i in range(start_index, end_index)]\n",
        "    \n",
        "    # for each file copy \n",
        "    for fname in fnames:\n",
        "      shutil.copyfile(src=original_dir / fname, dst=dir / fname)\n",
        "\n",
        "  \n"
      ],
      "metadata": {
        "id": "NB8tGMtIGQ5g"
      },
      "execution_count": 9,
      "outputs": []
    },
    {
      "cell_type": "code",
      "source": [
        "make_subset(\"train\", start_index=0, end_index=1000)\n",
        "make_subset(\"validation\", start_index=1000, end_index=1500)\n",
        "make_subset(\"test\", start_index=1500, end_index=2500)"
      ],
      "metadata": {
        "id": "lu1Mm6WiIRBm"
      },
      "execution_count": 10,
      "outputs": []
    },
    {
      "cell_type": "markdown",
      "source": [
        "Building the model.  Data is in train/test/validation folders under cat/dog folders."
      ],
      "metadata": {
        "id": "YA6pdswCJSdB"
      }
    },
    {
      "cell_type": "code",
      "source": [
        "from tensorflow import keras\n",
        "from tensorflow.keras import layers\n",
        "from tensorflow.keras.utils import image_dataset_from_directory\n",
        "\n",
        "import matplotlib.pyplot as plt"
      ],
      "metadata": {
        "id": "cR19nzZ0JJNA"
      },
      "execution_count": 26,
      "outputs": []
    },
    {
      "cell_type": "code",
      "source": [
        "inputs = keras.Input(shape= (180, 180, 3))\n",
        "x = layers.Rescaling(1. / 255.)(inputs)\n",
        "x = layers.Conv2D(filters=32, kernel_size=3, activation=\"relu\")(x)\n",
        "x = layers.MaxPooling2D(pool_size=2)(x)\n",
        "\n",
        "x = layers.Conv2D(filters=64, kernel_size=3, activation=\"relu\")(x)\n",
        "x = layers.MaxPooling2D(pool_size=2)(x)\n",
        "\n",
        "x = layers.Conv2D(filters=128, kernel_size=3, activation=\"relu\")(x)\n",
        "x = layers.MaxPooling2D(pool_size=2)(x)\n",
        "\n",
        "x = layers.Conv2D(filters=256, kernel_size=3, activation=\"relu\")(x)\n",
        "x = layers.MaxPooling2D(pool_size=2)(x)\n",
        "\n",
        "x = layers.Conv2D(filters=256, kernel_size=3, activation=\"relu\")(x)\n",
        "x = layers.Flatten()(x)\n",
        "\n",
        "outputs = layers.Dense(1, activation=\"sigmoid\")(x)\n",
        "model = keras.Model(inputs=inputs, outputs=outputs)\n"
      ],
      "metadata": {
        "id": "kHGIMRPyJv3C"
      },
      "execution_count": 19,
      "outputs": []
    },
    {
      "cell_type": "code",
      "source": [
        "model.summary()"
      ],
      "metadata": {
        "colab": {
          "base_uri": "https://localhost:8080/"
        },
        "id": "NbiRXinLLxBW",
        "outputId": "d26e79ea-6126-45cd-fb2d-b6621f1d9895"
      },
      "execution_count": 20,
      "outputs": [
        {
          "output_type": "stream",
          "name": "stdout",
          "text": [
            "Model: \"model_1\"\n",
            "_________________________________________________________________\n",
            " Layer (type)                Output Shape              Param #   \n",
            "=================================================================\n",
            " input_2 (InputLayer)        [(None, 180, 180, 3)]     0         \n",
            "                                                                 \n",
            " rescaling_1 (Rescaling)     (None, 180, 180, 3)       0         \n",
            "                                                                 \n",
            " conv2d_5 (Conv2D)           (None, 178, 178, 32)      896       \n",
            "                                                                 \n",
            " max_pooling2d_4 (MaxPooling  (None, 89, 89, 32)       0         \n",
            " 2D)                                                             \n",
            "                                                                 \n",
            " conv2d_6 (Conv2D)           (None, 87, 87, 64)        18496     \n",
            "                                                                 \n",
            " max_pooling2d_5 (MaxPooling  (None, 43, 43, 64)       0         \n",
            " 2D)                                                             \n",
            "                                                                 \n",
            " conv2d_7 (Conv2D)           (None, 41, 41, 128)       73856     \n",
            "                                                                 \n",
            " max_pooling2d_6 (MaxPooling  (None, 20, 20, 128)      0         \n",
            " 2D)                                                             \n",
            "                                                                 \n",
            " conv2d_8 (Conv2D)           (None, 18, 18, 256)       295168    \n",
            "                                                                 \n",
            " max_pooling2d_7 (MaxPooling  (None, 9, 9, 256)        0         \n",
            " 2D)                                                             \n",
            "                                                                 \n",
            " conv2d_9 (Conv2D)           (None, 7, 7, 256)         590080    \n",
            "                                                                 \n",
            " flatten_1 (Flatten)         (None, 12544)             0         \n",
            "                                                                 \n",
            " dense_1 (Dense)             (None, 1)                 12545     \n",
            "                                                                 \n",
            "=================================================================\n",
            "Total params: 991,041\n",
            "Trainable params: 991,041\n",
            "Non-trainable params: 0\n",
            "_________________________________________________________________\n"
          ]
        }
      ]
    },
    {
      "cell_type": "code",
      "source": [
        "model.compile(loss=\"binary_crossentropy\", optimizer=\"rmsprop\", metrics=[\"accuracy\"])"
      ],
      "metadata": {
        "id": "nQ-gzfiELycB"
      },
      "execution_count": 21,
      "outputs": []
    },
    {
      "cell_type": "code",
      "source": [
        "train_dataset = image_dataset_from_directory( new_base_dir / \"train\", image_size=(180, 180), batch_size=32)\n",
        "validation_dataset = image_dataset_from_directory( new_base_dir / \"validation\", image_size=(180, 180), batch_size= 32)\n",
        "test_dataset = image_dataset_from_directory( new_base_dir / \"test\", image_size=(180, 180), batch_size=32)"
      ],
      "metadata": {
        "colab": {
          "base_uri": "https://localhost:8080/"
        },
        "id": "KhnfiTUfMaym",
        "outputId": "bc921f2c-9623-443e-f967-5cf14e7d4c56"
      },
      "execution_count": 22,
      "outputs": [
        {
          "output_type": "stream",
          "name": "stdout",
          "text": [
            "Found 2000 files belonging to 2 classes.\n",
            "Found 1000 files belonging to 2 classes.\n",
            "Found 2000 files belonging to 2 classes.\n"
          ]
        }
      ]
    },
    {
      "cell_type": "code",
      "source": [
        "# check shape\n",
        "for data_batch, labels_batch in train_dataset:\n",
        "  print(\"data batch shape: \", data_batch.shape)\n",
        "  print(\"labels batch shape: \", labels_batch.shape)\n",
        "  break"
      ],
      "metadata": {
        "colab": {
          "base_uri": "https://localhost:8080/"
        },
        "id": "h9nI9riPNN-w",
        "outputId": "0340dfe8-cb9d-4dd8-dd4e-1de408703799"
      },
      "execution_count": 23,
      "outputs": [
        {
          "output_type": "stream",
          "name": "stdout",
          "text": [
            "data batch shape:  (32, 180, 180, 3)\n",
            "labels batch shape:  (32,)\n"
          ]
        }
      ]
    },
    {
      "cell_type": "code",
      "source": [
        "callbacks = [\n",
        "    keras.callbacks.ModelCheckpoint(\n",
        "        filepath=\"convnet_from_scratch.keras\",\n",
        "        save_best_only=True,\n",
        "        monitor=\"val_loss\"\n",
        "    )\n",
        "]"
      ],
      "metadata": {
        "id": "5tq6B-QEN7pS"
      },
      "execution_count": 24,
      "outputs": []
    },
    {
      "cell_type": "code",
      "source": [
        "history = model.fit(train_dataset, epochs=30, validation_data=validation_dataset, callbacks=callbacks)"
      ],
      "metadata": {
        "colab": {
          "base_uri": "https://localhost:8080/"
        },
        "id": "rvgLnhoTOkSJ",
        "outputId": "72ed0cfe-4f3e-415e-c566-2bf1c50b13ca"
      },
      "execution_count": 25,
      "outputs": [
        {
          "output_type": "stream",
          "name": "stdout",
          "text": [
            "Epoch 1/30\n",
            "63/63 [==============================] - 5s 71ms/step - loss: 0.7112 - accuracy: 0.5220 - val_loss: 0.6915 - val_accuracy: 0.5870\n",
            "Epoch 2/30\n",
            "63/63 [==============================] - 5s 69ms/step - loss: 0.7184 - accuracy: 0.5560 - val_loss: 0.6802 - val_accuracy: 0.6270\n",
            "Epoch 3/30\n",
            "63/63 [==============================] - 5s 69ms/step - loss: 0.6740 - accuracy: 0.6055 - val_loss: 0.6647 - val_accuracy: 0.5880\n",
            "Epoch 4/30\n",
            "63/63 [==============================] - 5s 68ms/step - loss: 0.6496 - accuracy: 0.6325 - val_loss: 0.6733 - val_accuracy: 0.5940\n",
            "Epoch 5/30\n",
            "63/63 [==============================] - 5s 69ms/step - loss: 0.6137 - accuracy: 0.6770 - val_loss: 0.6213 - val_accuracy: 0.6550\n",
            "Epoch 6/30\n",
            "63/63 [==============================] - 5s 68ms/step - loss: 0.5801 - accuracy: 0.6970 - val_loss: 0.5900 - val_accuracy: 0.6880\n",
            "Epoch 7/30\n",
            "63/63 [==============================] - 5s 70ms/step - loss: 0.5482 - accuracy: 0.7300 - val_loss: 0.5732 - val_accuracy: 0.7020\n",
            "Epoch 8/30\n",
            "63/63 [==============================] - 5s 69ms/step - loss: 0.4870 - accuracy: 0.7725 - val_loss: 0.6593 - val_accuracy: 0.6710\n",
            "Epoch 9/30\n",
            "63/63 [==============================] - 5s 70ms/step - loss: 0.4165 - accuracy: 0.8060 - val_loss: 0.5675 - val_accuracy: 0.7220\n",
            "Epoch 10/30\n",
            "63/63 [==============================] - 5s 69ms/step - loss: 0.3710 - accuracy: 0.8455 - val_loss: 1.0290 - val_accuracy: 0.6520\n",
            "Epoch 11/30\n",
            "63/63 [==============================] - 5s 68ms/step - loss: 0.3058 - accuracy: 0.8690 - val_loss: 0.6983 - val_accuracy: 0.6490\n",
            "Epoch 12/30\n",
            "63/63 [==============================] - 5s 68ms/step - loss: 0.2458 - accuracy: 0.8955 - val_loss: 0.7983 - val_accuracy: 0.6950\n",
            "Epoch 13/30\n",
            "63/63 [==============================] - 5s 68ms/step - loss: 0.1933 - accuracy: 0.9235 - val_loss: 1.0468 - val_accuracy: 0.6710\n",
            "Epoch 14/30\n",
            "63/63 [==============================] - 5s 68ms/step - loss: 0.1436 - accuracy: 0.9445 - val_loss: 1.0368 - val_accuracy: 0.7000\n",
            "Epoch 15/30\n",
            "63/63 [==============================] - 5s 68ms/step - loss: 0.1239 - accuracy: 0.9540 - val_loss: 1.0387 - val_accuracy: 0.7250\n",
            "Epoch 16/30\n",
            "63/63 [==============================] - 5s 69ms/step - loss: 0.0865 - accuracy: 0.9680 - val_loss: 1.1926 - val_accuracy: 0.7180\n",
            "Epoch 17/30\n",
            "63/63 [==============================] - 5s 81ms/step - loss: 0.0894 - accuracy: 0.9670 - val_loss: 1.3943 - val_accuracy: 0.7050\n",
            "Epoch 18/30\n",
            "63/63 [==============================] - 5s 70ms/step - loss: 0.0552 - accuracy: 0.9825 - val_loss: 2.4167 - val_accuracy: 0.6700\n",
            "Epoch 19/30\n",
            "63/63 [==============================] - 5s 68ms/step - loss: 0.0953 - accuracy: 0.9675 - val_loss: 1.4660 - val_accuracy: 0.7260\n",
            "Epoch 20/30\n",
            "63/63 [==============================] - 5s 69ms/step - loss: 0.0593 - accuracy: 0.9765 - val_loss: 1.8172 - val_accuracy: 0.7050\n",
            "Epoch 21/30\n",
            "63/63 [==============================] - 5s 69ms/step - loss: 0.0521 - accuracy: 0.9805 - val_loss: 1.7663 - val_accuracy: 0.7240\n",
            "Epoch 22/30\n",
            "63/63 [==============================] - 5s 68ms/step - loss: 0.0408 - accuracy: 0.9880 - val_loss: 1.9465 - val_accuracy: 0.7000\n",
            "Epoch 23/30\n",
            "63/63 [==============================] - 5s 68ms/step - loss: 0.0725 - accuracy: 0.9785 - val_loss: 1.7042 - val_accuracy: 0.7220\n",
            "Epoch 24/30\n",
            "63/63 [==============================] - 5s 69ms/step - loss: 0.0451 - accuracy: 0.9905 - val_loss: 1.9461 - val_accuracy: 0.6980\n",
            "Epoch 25/30\n",
            "63/63 [==============================] - 5s 69ms/step - loss: 0.0309 - accuracy: 0.9895 - val_loss: 1.8623 - val_accuracy: 0.7280\n",
            "Epoch 26/30\n",
            "63/63 [==============================] - 5s 69ms/step - loss: 0.0386 - accuracy: 0.9860 - val_loss: 2.1619 - val_accuracy: 0.7200\n",
            "Epoch 27/30\n",
            "63/63 [==============================] - 5s 69ms/step - loss: 0.0383 - accuracy: 0.9890 - val_loss: 2.0915 - val_accuracy: 0.7260\n",
            "Epoch 28/30\n",
            "63/63 [==============================] - 5s 69ms/step - loss: 0.0749 - accuracy: 0.9815 - val_loss: 2.2218 - val_accuracy: 0.7310\n",
            "Epoch 29/30\n",
            "63/63 [==============================] - 5s 69ms/step - loss: 0.0214 - accuracy: 0.9925 - val_loss: 2.2268 - val_accuracy: 0.7220\n",
            "Epoch 30/30\n",
            "63/63 [==============================] - 5s 68ms/step - loss: 0.0437 - accuracy: 0.9855 - val_loss: 2.2270 - val_accuracy: 0.7240\n"
          ]
        }
      ]
    },
    {
      "cell_type": "code",
      "source": [
        "!pwd"
      ],
      "metadata": {
        "colab": {
          "base_uri": "https://localhost:8080/"
        },
        "id": "6ufa9qsNOuch",
        "outputId": "95b793d7-cde9-4b60-a65e-a8d12998801e"
      },
      "execution_count": 2,
      "outputs": [
        {
          "output_type": "stream",
          "name": "stdout",
          "text": [
            "/content\n"
          ]
        }
      ]
    },
    {
      "cell_type": "code",
      "source": [
        "accuracy = history.history[\"accuracy\"]\n",
        "val_accuracy = history.history[\"val_accuracy\"]\n",
        "loss = history.history[\"loss\"]\n",
        "val_loss = history.history[\"val_loss\"]\n",
        "epochs = range(1, len(accuracy) + 1)\n"
      ],
      "metadata": {
        "id": "RukUk7cVPQgZ"
      },
      "execution_count": 27,
      "outputs": []
    },
    {
      "cell_type": "code",
      "source": [
        "plt.plot(epochs, accuracy, \"bo\", label=\"Training Accuracy\")\n",
        "plt.plot(epochs, val_accuracy, \"b\", label=\"Validation Accuracy\")\n",
        "plt.title(\"Training and validation accuracy\")\n",
        "plt.legend()\n",
        "plt.figure()\n",
        "\n",
        "plt.plot(epochs, loss, \"bo\", label=\"Training Loss\")\n",
        "plt.plot(epochs, val_loss, \"b\", label=\"Validation Loss\")\n",
        "plt.title(\"Training and validation loss\")\n",
        "plt.legend()\n",
        "plt.show()\n"
      ],
      "metadata": {
        "colab": {
          "base_uri": "https://localhost:8080/",
          "height": 545
        },
        "id": "mNp_Ex3GT5M_",
        "outputId": "80e6a6d1-b58f-4ebf-dcef-6af9892d2464"
      },
      "execution_count": 28,
      "outputs": [
        {
          "output_type": "display_data",
          "data": {
            "text/plain": [
              "<Figure size 432x288 with 1 Axes>"
            ],
            "image/png": "[encoded data removed]"
          },
          "metadata": {
            "needs_background": "light"
          }
        },
        {
          "output_type": "display_data",
          "data": {
            "text/plain": [
              "<Figure size 432x288 with 1 Axes>"
            ],
            "image/png": "[encoded data removed]"
          },
          "metadata": {
            "needs_background": "light"
          }
        }
      ]
    },
    {
      "cell_type": "code",
      "source": [
        "#test accuracy\n",
        "test_model = keras.models.load_model(\"convnet_from_scratch.keras\")\n",
        "test_loss, test_accuracy = test_model.evaluate(test_dataset)\n"
      ],
      "metadata": {
        "colab": {
          "base_uri": "https://localhost:8080/"
        },
        "id": "EWMA2AIVUdxB",
        "outputId": "ce29d7c2-0d35-4c66-9d8f-a6734c9bb336"
      },
      "execution_count": 30,
      "outputs": [
        {
          "output_type": "stream",
          "name": "stdout",
          "text": [
            "63/63 [==============================] - 3s 36ms/step - loss: 0.5957 - accuracy: 0.6985\n",
            "Test accuracy: (test_acc:.3f)\n"
          ]
        }
      ]
    },
    {
      "cell_type": "code",
      "source": [
        "print(f\"Test accuracy: {test_accuracy:.3f}\")"
      ],
      "metadata": {
        "colab": {
          "base_uri": "https://localhost:8080/"
        },
        "id": "PXW5u9WxU8kQ",
        "outputId": "ec4e3c22-df87-4b95-9b7a-7e1268507df0"
      },
      "execution_count": 31,
      "outputs": [
        {
          "output_type": "stream",
          "name": "stdout",
          "text": [
            "Test accuracy: 0.698\n"
          ]
        }
      ]
    },
    {
      "cell_type": "code",
      "source": [
        ""
      ],
      "metadata": {
        "id": "OMuW_pQnVGeT"
      },
      "execution_count": null,
      "outputs": []
    }
  ]
}