{
  "nbformat": 4,
  "nbformat_minor": 0,
  "metadata": {
    "colab": {
      "name": "Chapter9-2.ipynb",
      "provenance": [],
      "authorship_tag": "ABX9TyPjEoO81Nm+apZORMdjOixg",
      "include_colab_link": true
    },
    "kernelspec": {
      "name": "python3",
      "display_name": "Python 3"
    },
    "language_info": {
      "name": "python"
    },
    "accelerator": "GPU",
    "gpuClass": "standard"
  },
  "cells": [
    {
      "cell_type": "markdown",
      "metadata": {
        "id": "view-in-github",
        "colab_type": "text"
      },
      "source": [
        "<a href=\"https://colab.research.google.com/github/thatguyandy27/DLWithPython/blob/main/chapter9/Chapter9_2.ipynb\" target=\"_parent\"><img src=\"https://colab.research.google.com/assets/colab-badge.svg\" alt=\"Open In Colab\"/></a>"
      ]
    },
    {
      "cell_type": "markdown",
      "source": [
        "Downloading the code from kaggle."
      ],
      "metadata": {
        "id": "GdtJ8JPZFmqw"
      }
    },
    {
      "cell_type": "code",
      "source": [
        "from google.colab import files\n",
        "files.upload()"
      ],
      "metadata": {
        "id": "HMGr9q14CcuS"
      },
      "execution_count": null,
      "outputs": []
    },
    {
      "cell_type": "code",
      "execution_count": 2,
      "metadata": {
        "colab": {
          "base_uri": "https://localhost:8080/"
        },
        "id": "xomXtMB6AxYB",
        "outputId": "9ac1bef1-d706-45b4-c9d3-0f380e009b6d"
      },
      "outputs": [
        {
          "output_type": "stream",
          "name": "stdout",
          "text": [
            "Downloading dogs-vs-cats.zip to /content\n",
            " 99% 808M/812M [00:05<00:00, 193MB/s]\n",
            "100% 812M/812M [00:05<00:00, 154MB/s]\n"
          ]
        }
      ],
      "source": [
        "!mkdir ~/.kaggle\n",
        "!mv kaggle.json ~/.kaggle/\n",
        "!chmod 600 ~/.kaggle/kaggle.json\n",
        "!kaggle competitions download -c dogs-vs-cats"
      ]
    },
    {
      "cell_type": "code",
      "source": [
        "!unzip -qq dogs-vs-cats.zip"
      ],
      "metadata": {
        "id": "ni4a-kH3CRVA"
      },
      "execution_count": 3,
      "outputs": []
    },
    {
      "cell_type": "code",
      "source": [
        "!unzip -qq train.zip"
      ],
      "metadata": {
        "id": "K3zrOBmbD-mg"
      },
      "execution_count": 4,
      "outputs": []
    },
    {
      "cell_type": "markdown",
      "source": [
        "Splitting the images into datasets"
      ],
      "metadata": {
        "id": "8saDiEWaFvlj"
      }
    },
    {
      "cell_type": "code",
      "source": [
        "import os, shutil, pathlib"
      ],
      "metadata": {
        "id": "ykQb60wXFVHB"
      },
      "execution_count": 5,
      "outputs": []
    },
    {
      "cell_type": "code",
      "source": [
        "original_dir = pathlib.Path(\"train\")\n",
        "new_base_dir = pathlib.Path(\"cats_vs_dogs_small\")"
      ],
      "metadata": {
        "id": "oV-ujhXNGFnV"
      },
      "execution_count": 6,
      "outputs": []
    },
    {
      "cell_type": "code",
      "source": [
        "def make_subset(subset_name, start_index, end_index):\n",
        "  # for cat and dog\n",
        "  for category in (\"cat\", \"dog\"):\n",
        "    dir = new_base_dir / subset_name / category\n",
        "    os.makedirs(dir)\n",
        "    # filename is cat/dog.number.jpg\n",
        "    fnames = [f\"{category}.{i}.jpg\"\n",
        "              for i in range(start_index, end_index)]\n",
        "    \n",
        "    # for each file copy \n",
        "    for fname in fnames:\n",
        "      shutil.copyfile(src=original_dir / fname, dst=dir / fname)\n",
        "\n",
        "  \n"
      ],
      "metadata": {
        "id": "NB8tGMtIGQ5g"
      },
      "execution_count": 7,
      "outputs": []
    },
    {
      "cell_type": "code",
      "source": [
        "make_subset(\"train\", start_index=0, end_index=1000)\n",
        "make_subset(\"validation\", start_index=1000, end_index=1500)\n",
        "make_subset(\"test\", start_index=1500, end_index=2500)"
      ],
      "metadata": {
        "id": "lu1Mm6WiIRBm"
      },
      "execution_count": 8,
      "outputs": []
    },
    {
      "cell_type": "markdown",
      "source": [
        "Building the model.  Data is in train/test/validation folders under cat/dog folders."
      ],
      "metadata": {
        "id": "YA6pdswCJSdB"
      }
    },
    {
      "cell_type": "code",
      "source": [
        "from tensorflow import keras\n",
        "from tensorflow.keras import layers\n",
        "from tensorflow.keras.utils import image_dataset_from_directory\n",
        "\n",
        "import matplotlib.pyplot as plt"
      ],
      "metadata": {
        "id": "zX5riShBRFKU"
      },
      "execution_count": 16,
      "outputs": []
    },
    {
      "cell_type": "code",
      "source": [
        "data_augmentation = keras.Sequential([\n",
        "    layers.RandomFlip(\"horizontal\"),\n",
        "    layers.RandomRotation(0.1),\n",
        "    layers.RandomZoom(0.2),\n",
        "])"
      ],
      "metadata": {
        "id": "fGW7bDSVRaQZ"
      },
      "execution_count": 10,
      "outputs": []
    },
    {
      "cell_type": "code",
      "source": [
        "inputs = keras.Input(shape=(180, 180, 3))\n",
        "x = data_augmentation(inputs)\n",
        "\n",
        "x = layers.Rescaling(1. / 255) (x)\n",
        "x = layers.Conv2D(filters=32, kernel_size=5, use_bias=False)(x)\n",
        "\n",
        "for size in [32, 64, 128, 256, 512]:\n",
        "  residual = x\n",
        "  \n",
        "  x = layers.BatchNormalization()(x)\n",
        "  x = layers.Activation(\"relu\")(x)\n",
        "  x = layers.SeparableConv2D(size, 3, padding=\"same\", use_bias=False)(x)\n",
        "\n",
        "  x = layers.BatchNormalization()(x)\n",
        "  x = layers.Activation(\"relu\")(x)\n",
        "  x = layers.SeparableConv2D(size, 3, padding=\"same\", use_bias=False)(x)\n",
        "\n",
        "  x = layers.MaxPooling2D(3, strides=2, padding=\"same\")(x)\n",
        "\n",
        "  residual = layers.Conv2D(size, 1, strides=2, padding=\"same\", use_bias=False)(residual)\n",
        "\n",
        "  x = layers.add([x, residual])\n",
        "\n",
        "x = layers.GlobalAveragePooling2D()(x)\n",
        "x = layers.Dropout(.5)(x)\n",
        "outputs = layers.Dense(1, activation=\"sigmoid\")(x)\n",
        "model = keras.Model(inputs=inputs, outputs=outputs)"
      ],
      "metadata": {
        "id": "Rmc0TZXDRPfM"
      },
      "execution_count": 19,
      "outputs": []
    },
    {
      "cell_type": "code",
      "source": [
        "callbacks = [\n",
        "    keras.callbacks.ModelCheckpoint(\n",
        "        filepath=\"mini-xception.keras\",\n",
        "        save_best_only=True,\n",
        "        monitor=\"val_loss\"\n",
        "    )\n",
        "]"
      ],
      "metadata": {
        "id": "Vgt8-_HuTOLz"
      },
      "execution_count": 14,
      "outputs": []
    },
    {
      "cell_type": "code",
      "source": [
        "model.compile(loss=\"binary_crossentropy\", optimizer=\"rmsprop\", metrics=[\"accuracy\"])"
      ],
      "metadata": {
        "id": "MSPW-ezOT5s7"
      },
      "execution_count": 20,
      "outputs": []
    },
    {
      "cell_type": "code",
      "source": [
        "\n",
        "train_dataset = image_dataset_from_directory( new_base_dir / \"train\", image_size=(180, 180), batch_size=32)\n",
        "validation_dataset = image_dataset_from_directory( new_base_dir / \"validation\", image_size=(180, 180), batch_size= 32)\n",
        "test_dataset = image_dataset_from_directory( new_base_dir / \"test\", image_size=(180, 180), batch_size=32)"
      ],
      "metadata": {
        "colab": {
          "base_uri": "https://localhost:8080/"
        },
        "id": "RPu-WPaEThzZ",
        "outputId": "8afbda01-3fea-4ea6-f59e-286b55954a3b"
      },
      "execution_count": 17,
      "outputs": [
        {
          "output_type": "stream",
          "name": "stdout",
          "text": [
            "Found 2000 files belonging to 2 classes.\n",
            "Found 1000 files belonging to 2 classes.\n",
            "Found 2000 files belonging to 2 classes.\n"
          ]
        }
      ]
    },
    {
      "cell_type": "code",
      "source": [
        "history = model.fit(train_dataset, epochs=100, validation_data=validation_dataset, callbacks=callbacks)"
      ],
      "metadata": {
        "colab": {
          "base_uri": "https://localhost:8080/"
        },
        "id": "ps9q6XwfTXSh",
        "outputId": "5483751b-183e-4a53-c1c7-c7a5784b988b"
      },
      "execution_count": 21,
      "outputs": [
        {
          "output_type": "stream",
          "name": "stdout",
          "text": [
            "Epoch 1/100\n",
            "63/63 [==============================] - 32s 449ms/step - loss: 0.7359 - accuracy: 0.5675 - val_loss: 0.7008 - val_accuracy: 0.5000\n",
            "Epoch 2/100\n",
            "63/63 [==============================] - 28s 436ms/step - loss: 0.6609 - accuracy: 0.6055 - val_loss: 0.6929 - val_accuracy: 0.4990\n",
            "Epoch 3/100\n",
            "63/63 [==============================] - 28s 430ms/step - loss: 0.6403 - accuracy: 0.6340 - val_loss: 0.6930 - val_accuracy: 0.5090\n",
            "Epoch 4/100\n",
            "63/63 [==============================] - 27s 431ms/step - loss: 0.6158 - accuracy: 0.6580 - val_loss: 0.6967 - val_accuracy: 0.5000\n",
            "Epoch 5/100\n",
            "63/63 [==============================] - 27s 415ms/step - loss: 0.6051 - accuracy: 0.6775 - val_loss: 0.7143 - val_accuracy: 0.5000\n",
            "Epoch 6/100\n",
            "63/63 [==============================] - 27s 429ms/step - loss: 0.5790 - accuracy: 0.6990 - val_loss: 0.7621 - val_accuracy: 0.5000\n",
            "Epoch 7/100\n",
            "63/63 [==============================] - 28s 433ms/step - loss: 0.5606 - accuracy: 0.7035 - val_loss: 0.7896 - val_accuracy: 0.5240\n",
            "Epoch 8/100\n",
            "63/63 [==============================] - 28s 433ms/step - loss: 0.5513 - accuracy: 0.7200 - val_loss: 0.7940 - val_accuracy: 0.5290\n",
            "Epoch 9/100\n",
            "63/63 [==============================] - 27s 427ms/step - loss: 0.5296 - accuracy: 0.7500 - val_loss: 0.8924 - val_accuracy: 0.5480\n",
            "Epoch 10/100\n",
            "63/63 [==============================] - 27s 421ms/step - loss: 0.5056 - accuracy: 0.7580 - val_loss: 0.5763 - val_accuracy: 0.6900\n",
            "Epoch 11/100\n",
            "63/63 [==============================] - 27s 426ms/step - loss: 0.5023 - accuracy: 0.7700 - val_loss: 0.6281 - val_accuracy: 0.6620\n",
            "Epoch 12/100\n",
            "63/63 [==============================] - 27s 425ms/step - loss: 0.5047 - accuracy: 0.7685 - val_loss: 0.6920 - val_accuracy: 0.6010\n",
            "Epoch 13/100\n",
            "63/63 [==============================] - 27s 427ms/step - loss: 0.4681 - accuracy: 0.7830 - val_loss: 0.7503 - val_accuracy: 0.6580\n",
            "Epoch 14/100\n",
            "63/63 [==============================] - 27s 417ms/step - loss: 0.4754 - accuracy: 0.7750 - val_loss: 1.6416 - val_accuracy: 0.5360\n",
            "Epoch 15/100\n",
            "63/63 [==============================] - 27s 419ms/step - loss: 0.4491 - accuracy: 0.7885 - val_loss: 0.5547 - val_accuracy: 0.7310\n",
            "Epoch 16/100\n",
            "63/63 [==============================] - 27s 430ms/step - loss: 0.4472 - accuracy: 0.7935 - val_loss: 0.5539 - val_accuracy: 0.7380\n",
            "Epoch 17/100\n",
            "63/63 [==============================] - 28s 435ms/step - loss: 0.4270 - accuracy: 0.8080 - val_loss: 0.8988 - val_accuracy: 0.6200\n",
            "Epoch 18/100\n",
            "63/63 [==============================] - 28s 431ms/step - loss: 0.4358 - accuracy: 0.8030 - val_loss: 0.9106 - val_accuracy: 0.5900\n",
            "Epoch 19/100\n",
            "63/63 [==============================] - 27s 428ms/step - loss: 0.4150 - accuracy: 0.8155 - val_loss: 0.6461 - val_accuracy: 0.6760\n",
            "Epoch 20/100\n",
            "63/63 [==============================] - 28s 443ms/step - loss: 0.4085 - accuracy: 0.8225 - val_loss: 0.5241 - val_accuracy: 0.7140\n",
            "Epoch 21/100\n",
            "63/63 [==============================] - 27s 421ms/step - loss: 0.3794 - accuracy: 0.8360 - val_loss: 0.5926 - val_accuracy: 0.7260\n",
            "Epoch 22/100\n",
            "63/63 [==============================] - 27s 429ms/step - loss: 0.3669 - accuracy: 0.8405 - val_loss: 0.4063 - val_accuracy: 0.8180\n",
            "Epoch 23/100\n",
            "63/63 [==============================] - 27s 423ms/step - loss: 0.3734 - accuracy: 0.8320 - val_loss: 1.1861 - val_accuracy: 0.5440\n",
            "Epoch 24/100\n",
            "63/63 [==============================] - 27s 427ms/step - loss: 0.3695 - accuracy: 0.8360 - val_loss: 0.5288 - val_accuracy: 0.7690\n",
            "Epoch 25/100\n",
            "63/63 [==============================] - 27s 420ms/step - loss: 0.3581 - accuracy: 0.8460 - val_loss: 0.9214 - val_accuracy: 0.6420\n",
            "Epoch 26/100\n",
            "63/63 [==============================] - 28s 435ms/step - loss: 0.3426 - accuracy: 0.8550 - val_loss: 0.4846 - val_accuracy: 0.7920\n",
            "Epoch 27/100\n",
            "63/63 [==============================] - 27s 422ms/step - loss: 0.3228 - accuracy: 0.8555 - val_loss: 0.5189 - val_accuracy: 0.7720\n",
            "Epoch 28/100\n",
            "63/63 [==============================] - 27s 426ms/step - loss: 0.3283 - accuracy: 0.8605 - val_loss: 0.6136 - val_accuracy: 0.7190\n",
            "Epoch 29/100\n",
            "63/63 [==============================] - 27s 429ms/step - loss: 0.3117 - accuracy: 0.8625 - val_loss: 1.1732 - val_accuracy: 0.5970\n",
            "Epoch 30/100\n",
            "63/63 [==============================] - 28s 440ms/step - loss: 0.3080 - accuracy: 0.8645 - val_loss: 0.7312 - val_accuracy: 0.7030\n",
            "Epoch 31/100\n",
            "63/63 [==============================] - 27s 428ms/step - loss: 0.2935 - accuracy: 0.8675 - val_loss: 0.7718 - val_accuracy: 0.6650\n",
            "Epoch 32/100\n",
            "63/63 [==============================] - 28s 432ms/step - loss: 0.2826 - accuracy: 0.8865 - val_loss: 0.4616 - val_accuracy: 0.7780\n",
            "Epoch 33/100\n",
            "63/63 [==============================] - 27s 430ms/step - loss: 0.3092 - accuracy: 0.8660 - val_loss: 0.4651 - val_accuracy: 0.7860\n",
            "Epoch 34/100\n",
            "63/63 [==============================] - 27s 422ms/step - loss: 0.2772 - accuracy: 0.8815 - val_loss: 0.7735 - val_accuracy: 0.7630\n",
            "Epoch 35/100\n",
            "63/63 [==============================] - 27s 431ms/step - loss: 0.2859 - accuracy: 0.8740 - val_loss: 0.4334 - val_accuracy: 0.8130\n",
            "Epoch 36/100\n",
            "63/63 [==============================] - 27s 425ms/step - loss: 0.2879 - accuracy: 0.8775 - val_loss: 0.4229 - val_accuracy: 0.8100\n",
            "Epoch 37/100\n",
            "63/63 [==============================] - 27s 419ms/step - loss: 0.2820 - accuracy: 0.8835 - val_loss: 0.6275 - val_accuracy: 0.7370\n",
            "Epoch 38/100\n",
            "63/63 [==============================] - 27s 420ms/step - loss: 0.2579 - accuracy: 0.8880 - val_loss: 0.4197 - val_accuracy: 0.8320\n",
            "Epoch 39/100\n",
            "63/63 [==============================] - 27s 427ms/step - loss: 0.2808 - accuracy: 0.8880 - val_loss: 1.1138 - val_accuracy: 0.6930\n",
            "Epoch 40/100\n",
            "63/63 [==============================] - 28s 432ms/step - loss: 0.2650 - accuracy: 0.8915 - val_loss: 0.7544 - val_accuracy: 0.7040\n",
            "Epoch 41/100\n",
            "63/63 [==============================] - 26s 412ms/step - loss: 0.2471 - accuracy: 0.9035 - val_loss: 0.5509 - val_accuracy: 0.7770\n",
            "Epoch 42/100\n",
            "63/63 [==============================] - 27s 427ms/step - loss: 0.2625 - accuracy: 0.8900 - val_loss: 0.4049 - val_accuracy: 0.8300\n",
            "Epoch 43/100\n",
            "63/63 [==============================] - 27s 431ms/step - loss: 0.2269 - accuracy: 0.9010 - val_loss: 0.4142 - val_accuracy: 0.8240\n",
            "Epoch 44/100\n",
            "63/63 [==============================] - 27s 423ms/step - loss: 0.2534 - accuracy: 0.8930 - val_loss: 0.3200 - val_accuracy: 0.8730\n",
            "Epoch 45/100\n",
            "63/63 [==============================] - 27s 419ms/step - loss: 0.2436 - accuracy: 0.9070 - val_loss: 0.3726 - val_accuracy: 0.8510\n",
            "Epoch 46/100\n",
            "63/63 [==============================] - 27s 428ms/step - loss: 0.2362 - accuracy: 0.8990 - val_loss: 0.5184 - val_accuracy: 0.7860\n",
            "Epoch 47/100\n",
            "63/63 [==============================] - 27s 425ms/step - loss: 0.2135 - accuracy: 0.9140 - val_loss: 1.0020 - val_accuracy: 0.7220\n",
            "Epoch 48/100\n",
            "63/63 [==============================] - 26s 415ms/step - loss: 0.2279 - accuracy: 0.9065 - val_loss: 0.6918 - val_accuracy: 0.7570\n",
            "Epoch 49/100\n",
            "63/63 [==============================] - 27s 421ms/step - loss: 0.2464 - accuracy: 0.9010 - val_loss: 0.4384 - val_accuracy: 0.8120\n",
            "Epoch 50/100\n",
            "63/63 [==============================] - 28s 432ms/step - loss: 0.2123 - accuracy: 0.9145 - val_loss: 0.6786 - val_accuracy: 0.7260\n",
            "Epoch 51/100\n",
            "63/63 [==============================] - 27s 430ms/step - loss: 0.2073 - accuracy: 0.9110 - val_loss: 1.1940 - val_accuracy: 0.6900\n",
            "Epoch 52/100\n",
            "63/63 [==============================] - 28s 433ms/step - loss: 0.1789 - accuracy: 0.9245 - val_loss: 1.0978 - val_accuracy: 0.7320\n",
            "Epoch 53/100\n",
            "63/63 [==============================] - 27s 423ms/step - loss: 0.1993 - accuracy: 0.9185 - val_loss: 0.4269 - val_accuracy: 0.8450\n",
            "Epoch 54/100\n",
            "63/63 [==============================] - 27s 431ms/step - loss: 0.2114 - accuracy: 0.9140 - val_loss: 0.3276 - val_accuracy: 0.8610\n",
            "Epoch 55/100\n",
            "63/63 [==============================] - 28s 431ms/step - loss: 0.1923 - accuracy: 0.9280 - val_loss: 0.4894 - val_accuracy: 0.8160\n",
            "Epoch 56/100\n",
            "63/63 [==============================] - 27s 424ms/step - loss: 0.1897 - accuracy: 0.9215 - val_loss: 0.4210 - val_accuracy: 0.8470\n",
            "Epoch 57/100\n",
            "63/63 [==============================] - 27s 420ms/step - loss: 0.1809 - accuracy: 0.9270 - val_loss: 0.9410 - val_accuracy: 0.7450\n",
            "Epoch 58/100\n",
            "63/63 [==============================] - 28s 433ms/step - loss: 0.1965 - accuracy: 0.9185 - val_loss: 0.4173 - val_accuracy: 0.8410\n",
            "Epoch 59/100\n",
            "63/63 [==============================] - 28s 436ms/step - loss: 0.1687 - accuracy: 0.9320 - val_loss: 0.4350 - val_accuracy: 0.8460\n",
            "Epoch 60/100\n",
            "63/63 [==============================] - 27s 423ms/step - loss: 0.2024 - accuracy: 0.9165 - val_loss: 0.3454 - val_accuracy: 0.8510\n",
            "Epoch 61/100\n",
            "63/63 [==============================] - 27s 429ms/step - loss: 0.1623 - accuracy: 0.9360 - val_loss: 0.4191 - val_accuracy: 0.8540\n",
            "Epoch 62/100\n",
            "63/63 [==============================] - 28s 427ms/step - loss: 0.1690 - accuracy: 0.9315 - val_loss: 0.4812 - val_accuracy: 0.8400\n",
            "Epoch 63/100\n",
            "63/63 [==============================] - 27s 429ms/step - loss: 0.1693 - accuracy: 0.9320 - val_loss: 0.4208 - val_accuracy: 0.8700\n",
            "Epoch 64/100\n",
            "63/63 [==============================] - 26s 413ms/step - loss: 0.1663 - accuracy: 0.9375 - val_loss: 0.4053 - val_accuracy: 0.8460\n",
            "Epoch 65/100\n",
            "63/63 [==============================] - 26s 410ms/step - loss: 0.1666 - accuracy: 0.9350 - val_loss: 0.4290 - val_accuracy: 0.8620\n",
            "Epoch 66/100\n",
            "63/63 [==============================] - 28s 432ms/step - loss: 0.1535 - accuracy: 0.9350 - val_loss: 0.3963 - val_accuracy: 0.8580\n",
            "Epoch 67/100\n",
            "63/63 [==============================] - 26s 408ms/step - loss: 0.1602 - accuracy: 0.9345 - val_loss: 0.4972 - val_accuracy: 0.8380\n",
            "Epoch 68/100\n",
            "63/63 [==============================] - 26s 417ms/step - loss: 0.1561 - accuracy: 0.9370 - val_loss: 1.0774 - val_accuracy: 0.7680\n",
            "Epoch 69/100\n",
            "63/63 [==============================] - 26s 410ms/step - loss: 0.1507 - accuracy: 0.9420 - val_loss: 0.5210 - val_accuracy: 0.8570\n",
            "Epoch 70/100\n",
            "63/63 [==============================] - 28s 431ms/step - loss: 0.1501 - accuracy: 0.9400 - val_loss: 0.5190 - val_accuracy: 0.8080\n",
            "Epoch 71/100\n",
            "63/63 [==============================] - 28s 435ms/step - loss: 0.1455 - accuracy: 0.9410 - val_loss: 0.4162 - val_accuracy: 0.8530\n",
            "Epoch 72/100\n",
            "63/63 [==============================] - 27s 432ms/step - loss: 0.1437 - accuracy: 0.9395 - val_loss: 0.4399 - val_accuracy: 0.8440\n",
            "Epoch 73/100\n",
            "63/63 [==============================] - 27s 421ms/step - loss: 0.1546 - accuracy: 0.9370 - val_loss: 0.3340 - val_accuracy: 0.8790\n",
            "Epoch 74/100\n",
            "63/63 [==============================] - 27s 426ms/step - loss: 0.1225 - accuracy: 0.9510 - val_loss: 0.8729 - val_accuracy: 0.7770\n",
            "Epoch 75/100\n",
            "63/63 [==============================] - 27s 426ms/step - loss: 0.1510 - accuracy: 0.9440 - val_loss: 0.4986 - val_accuracy: 0.8420\n",
            "Epoch 76/100\n",
            "63/63 [==============================] - 27s 427ms/step - loss: 0.1253 - accuracy: 0.9520 - val_loss: 0.3739 - val_accuracy: 0.8650\n",
            "Epoch 77/100\n",
            "63/63 [==============================] - 27s 430ms/step - loss: 0.1456 - accuracy: 0.9400 - val_loss: 0.3525 - val_accuracy: 0.8770\n",
            "Epoch 78/100\n",
            "63/63 [==============================] - 27s 426ms/step - loss: 0.1387 - accuracy: 0.9435 - val_loss: 0.3913 - val_accuracy: 0.8740\n",
            "Epoch 79/100\n",
            "63/63 [==============================] - 27s 428ms/step - loss: 0.1155 - accuracy: 0.9555 - val_loss: 0.4715 - val_accuracy: 0.8510\n",
            "Epoch 80/100\n",
            "63/63 [==============================] - 27s 424ms/step - loss: 0.1334 - accuracy: 0.9485 - val_loss: 0.3943 - val_accuracy: 0.8860\n",
            "Epoch 81/100\n",
            "63/63 [==============================] - 27s 423ms/step - loss: 0.1337 - accuracy: 0.9435 - val_loss: 0.4234 - val_accuracy: 0.8730\n",
            "Epoch 82/100\n",
            "63/63 [==============================] - 27s 419ms/step - loss: 0.1205 - accuracy: 0.9560 - val_loss: 0.3988 - val_accuracy: 0.8860\n",
            "Epoch 83/100\n",
            "63/63 [==============================] - 27s 422ms/step - loss: 0.1276 - accuracy: 0.9435 - val_loss: 0.9835 - val_accuracy: 0.7880\n",
            "Epoch 84/100\n",
            "63/63 [==============================] - 27s 430ms/step - loss: 0.1181 - accuracy: 0.9485 - val_loss: 0.8221 - val_accuracy: 0.7700\n",
            "Epoch 85/100\n",
            "63/63 [==============================] - 27s 427ms/step - loss: 0.1101 - accuracy: 0.9605 - val_loss: 0.5131 - val_accuracy: 0.8650\n",
            "Epoch 86/100\n",
            "63/63 [==============================] - 27s 424ms/step - loss: 0.1331 - accuracy: 0.9485 - val_loss: 0.3941 - val_accuracy: 0.8650\n",
            "Epoch 87/100\n",
            "63/63 [==============================] - 27s 427ms/step - loss: 0.1263 - accuracy: 0.9545 - val_loss: 0.3766 - val_accuracy: 0.8780\n",
            "Epoch 88/100\n",
            "63/63 [==============================] - 27s 426ms/step - loss: 0.1119 - accuracy: 0.9560 - val_loss: 0.4111 - val_accuracy: 0.8600\n",
            "Epoch 89/100\n",
            "63/63 [==============================] - 27s 431ms/step - loss: 0.1156 - accuracy: 0.9610 - val_loss: 0.3727 - val_accuracy: 0.8840\n",
            "Epoch 90/100\n",
            "63/63 [==============================] - 28s 432ms/step - loss: 0.1107 - accuracy: 0.9575 - val_loss: 0.3124 - val_accuracy: 0.8890\n",
            "Epoch 91/100\n",
            "63/63 [==============================] - 27s 425ms/step - loss: 0.1238 - accuracy: 0.9505 - val_loss: 0.5189 - val_accuracy: 0.8390\n",
            "Epoch 92/100\n",
            "63/63 [==============================] - 28s 434ms/step - loss: 0.1041 - accuracy: 0.9640 - val_loss: 0.4535 - val_accuracy: 0.8580\n",
            "Epoch 93/100\n",
            "63/63 [==============================] - 27s 416ms/step - loss: 0.0949 - accuracy: 0.9595 - val_loss: 0.5418 - val_accuracy: 0.8220\n",
            "Epoch 94/100\n",
            "63/63 [==============================] - 27s 427ms/step - loss: 0.1193 - accuracy: 0.9590 - val_loss: 0.4627 - val_accuracy: 0.8590\n",
            "Epoch 95/100\n",
            "63/63 [==============================] - 27s 426ms/step - loss: 0.0996 - accuracy: 0.9600 - val_loss: 0.3078 - val_accuracy: 0.8990\n",
            "Epoch 96/100\n",
            "63/63 [==============================] - 27s 426ms/step - loss: 0.1133 - accuracy: 0.9575 - val_loss: 0.4073 - val_accuracy: 0.8850\n",
            "Epoch 97/100\n",
            "63/63 [==============================] - 27s 429ms/step - loss: 0.1297 - accuracy: 0.9525 - val_loss: 0.3845 - val_accuracy: 0.8900\n",
            "Epoch 98/100\n",
            "63/63 [==============================] - 27s 425ms/step - loss: 0.0907 - accuracy: 0.9620 - val_loss: 1.6036 - val_accuracy: 0.6920\n",
            "Epoch 99/100\n",
            "63/63 [==============================] - 28s 443ms/step - loss: 0.1122 - accuracy: 0.9585 - val_loss: 0.4230 - val_accuracy: 0.8500\n",
            "Epoch 100/100\n",
            "63/63 [==============================] - 27s 419ms/step - loss: 0.0988 - accuracy: 0.9595 - val_loss: 0.9320 - val_accuracy: 0.8000\n"
          ]
        }
      ]
    },
    {
      "cell_type": "code",
      "source": [
        "accuracy = history.history[\"accuracy\"]\n",
        "val_accuracy = history.history[\"val_accuracy\"]\n",
        "loss = history.history[\"loss\"]\n",
        "val_loss = history.history[\"val_loss\"]\n",
        "epochs = range(1, len(accuracy) + 1)\n"
      ],
      "metadata": {
        "id": "RukUk7cVPQgZ"
      },
      "execution_count": 22,
      "outputs": []
    },
    {
      "cell_type": "code",
      "source": [
        "plt.plot(epochs, accuracy, \"bo\", label=\"Training Accuracy\")\n",
        "plt.plot(epochs, val_accuracy, \"b\", label=\"Validation Accuracy\")\n",
        "plt.title(\"Training and validation accuracy\")\n",
        "plt.legend()\n",
        "plt.figure()\n",
        "\n",
        "plt.plot(epochs, loss, \"bo\", label=\"Training Loss\")\n",
        "plt.plot(epochs, val_loss, \"b\", label=\"Validation Loss\")\n",
        "plt.title(\"Training and validation loss\")\n",
        "plt.legend()\n",
        "plt.show()\n"
      ],
      "metadata": {
        "colab": {
          "base_uri": "https://localhost:8080/",
          "height": 545
        },
        "id": "mNp_Ex3GT5M_",
        "outputId": "6a393237-d26e-4397-b1a3-fc53433efa9f"
      },
      "execution_count": 23,
      "outputs": [
        {
          "output_type": "display_data",
          "data": {
            "text/plain": [
              "<Figure size 432x288 with 1 Axes>"
            ],
            "image/png": "[encoded data removed]"
          },
          "metadata": {
            "needs_background": "light"
          }
        },
        {
          "output_type": "display_data",
          "data": {
            "text/plain": [
              "<Figure size 432x288 with 1 Axes>"
            ],
            "image/png": "[encoded data removed]"
          },
          "metadata": {
            "needs_background": "light"
          }
        }
      ]
    },
    {
      "cell_type": "code",
      "source": [
        "#test accuracy\n",
        "test_model = keras.models.load_model(\"mini-xception.keras\")\n",
        "test_loss, test_accuracy = test_model.evaluate(test_dataset)\n"
      ],
      "metadata": {
        "colab": {
          "base_uri": "https://localhost:8080/"
        },
        "id": "EWMA2AIVUdxB",
        "outputId": "c6e29adc-a81b-4b9b-ad14-08056e3e65d5"
      },
      "execution_count": 24,
      "outputs": [
        {
          "output_type": "stream",
          "name": "stdout",
          "text": [
            "63/63 [==============================] - 4s 42ms/step - loss: 0.4182 - accuracy: 0.8875\n"
          ]
        }
      ]
    },
    {
      "cell_type": "code",
      "source": [
        "print(f\"Test accuracy: {test_accuracy:.3f}\")"
      ],
      "metadata": {
        "colab": {
          "base_uri": "https://localhost:8080/"
        },
        "id": "PXW5u9WxU8kQ",
        "outputId": "450e5701-bf29-4c2b-83c8-be5aa5ce117a"
      },
      "execution_count": 25,
      "outputs": [
        {
          "output_type": "stream",
          "name": "stdout",
          "text": [
            "Test accuracy: 0.887\n"
          ]
        }
      ]
    }
  ]
}